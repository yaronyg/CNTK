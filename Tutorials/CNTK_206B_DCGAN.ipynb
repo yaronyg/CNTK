{
 "cells": [
  {
   "cell_type": "markdown",
   "metadata": {},
   "source": [
    "# CNTK 206  Part B: Deep Convolutional GAN with MNIST data\n",
    "\n",
    "**Prerequisites**: We assume that you have successfully downloaded the MNIST data by completing the tutorial titled CNTK_103A_MNIST_DataLoader.ipynb.\n",
    "\n",
    "## Introduction\n",
    "\n",
    "[Generative models](https://en.wikipedia.org/wiki/Generative_model) have gained a [lot of attention](https://openai.com/blog/generative-models/) in deep learning community which has traditionally leveraged [discriminative models](https://en.wikipedia.org/wiki/Discriminative_model) for (semi-supervised) and unsupervised learning. \n",
    "\n",
    "## Overview\n",
    "In the previous tutorial we introduce the original GAN implementation by [Goodfellow et al](https://arxiv.org/pdf/1406.2661v1.pdf) at NIPS  2014. This pioneering work has since then been extended and many techniques have been published amongst which the Deep Convolutional Generative Adversarial Network a.k.a. DCGAN has become the recommended launch pad in the community.\n",
    "\n",
    "In this tutorial, we introduce an implementation of the DCGAN with some well tested architectural constraints that improve stability in the GAN training: \n",
    "\n",
    "- We use [strided convolutions](https://en.wikipedia.org/wiki/Convolutional_neural_network) in the (discriminator) and [fractional-strided convolutions](https://arxiv.org/pdf/1603.07285v1.pdf) in the generator.\n",
    "- We have used batch normalization in both the generator and the discriminator\n",
    "- We have removed fully connected hidden layers for deeper architectures.\n",
    "- We use ReLU activation in generator for all layers except for the output, which uses Tanh.\n",
    "- We use LeakyReLU activation in the discriminator for all layers.\n"
   ]
  },
  {
   "cell_type": "code",
   "execution_count": 1,
   "metadata": {
    "collapsed": false
   },
   "outputs": [],
   "source": [
    "import matplotlib as mpl\n",
    "import matplotlib.pyplot as plt\n",
    "import numpy as np\n",
    "import os\n",
    "\n",
    "import cntk as C\n",
    "from cntk import Trainer\n",
    "from cntk.layers import default_options\n",
    "from cntk.device import set_default_device, gpu, cpu\n",
    "from cntk.initializer import normal\n",
    "from cntk.io import (MinibatchSource, CTFDeserializer, StreamDef, StreamDefs,\n",
    "                     INFINITELY_REPEAT)\n",
    "from cntk.layers import Dense, Convolution2D, ConvolutionTranspose2D, BatchNormalization\n",
    "from cntk.learners import (adam, UnitType, learning_rate_schedule,\n",
    "                          momentum_as_time_constant_schedule, momentum_schedule)\n",
    "from cntk.logging import ProgressPrinter\n",
    "\n",
    "%matplotlib inline"
   ]
  },
  {
   "cell_type": "markdown",
   "metadata": {
    "collapsed": true
   },
   "source": [
    "### Select the notebook runtime environment devices / settings\n",
    "\n",
    "Set the device to cpu / gpu for the test environment. If you have both CPU and GPU on your machine, you can optionally switch the devices. By default, we choose the best available device."
   ]
  },
  {
   "cell_type": "code",
   "execution_count": 2,
   "metadata": {
    "collapsed": false
   },
   "outputs": [
    {
     "data": {
      "text/plain": [
       "True"
      ]
     },
     "execution_count": 2,
     "metadata": {},
     "output_type": "execute_result"
    }
   ],
   "source": [
    "# Select the right target device when this notebook is being tested:\n",
    "if 'TEST_DEVICE' in os.environ:\n",
    "    import cntk\n",
    "    if os.environ['TEST_DEVICE'] == 'cpu':\n",
    "        C.device.set_default_device(C.device.cpu())\n",
    "    else:\n",
    "        C.device.set_default_device(C.device.gpu(0))\n",
    "C.device.set_default_device(C.device.gpu(0))"
   ]
  },
  {
   "cell_type": "markdown",
   "metadata": {},
   "source": [
    "There are two run modes:\n",
    "- *Fast mode*: `isFast` is set to `True`. This is the default mode for the notebooks, which means we train for fewer iterations or train / test on limited data. This ensures functional correctness of the notebook though the models produced are far from what a completed training would produce.\n",
    "\n",
    "- *Slow mode*: We recommend the user to set this flag to `False` once the user has gained familiarity with the notebook content and wants to gain insight from running the notebooks for a longer period with different parameters for training. \n",
    "\n",
    "**Note**\n",
    "If the `isFlag` is set to `False` the notebook will take a few hours on a GPU enabled machine. You can try fewer iterations by setting the `num_minibatches` to a smaller number say `20,000` which comes at the expense of quality of the generated images."
   ]
  },
  {
   "cell_type": "code",
   "execution_count": 3,
   "metadata": {
    "collapsed": true
   },
   "outputs": [],
   "source": [
    "isFast = True"
   ]
  },
  {
   "cell_type": "markdown",
   "metadata": {},
   "source": [
    "## Data Reading\n",
    "The input to the GAN will be a vector of random numbers. At the end of the traning, the GAN \"learns\" to generate images of hand written digits drawn from the [MNIST database](https://en.wikipedia.org/wiki/MNIST_database). We will be using the same MNIST data generated in tutorial 103A.  A more in-depth discussion of the data format and reading methods can be seen in previous tutorials.  For our purposes, just know that the following function returns an object that will be used to generate images from the MNIST dataset.  Since we are building an unsupervised model, we only need to read in `features` and ignore the `labels`."
   ]
  },
  {
   "cell_type": "code",
   "execution_count": 4,
   "metadata": {
    "collapsed": false
   },
   "outputs": [
    {
     "name": "stdout",
     "output_type": "stream",
     "text": [
      "Data directory is ..\\Examples\\Image\\DataSets\\MNIST\n"
     ]
    }
   ],
   "source": [
    "# Ensure the training data is generated and available for this tutorial\n",
    "# We search in two locations in the toolkit for the cached MNIST data set.\n",
    "\n",
    "data_found = False\n",
    "for data_dir in [os.path.join(\"..\", \"Examples\", \"Image\", \"DataSets\", \"MNIST\"),\n",
    "                 os.path.join(\"data\", \"MNIST\")]:\n",
    "    train_file = os.path.join(data_dir, \"Train-28x28_cntk_text.txt\")\n",
    "    if os.path.isfile(train_file):\n",
    "        data_found = True\n",
    "        break\n",
    "        \n",
    "if not data_found:\n",
    "    raise ValueError(\"Please generate the data by completing CNTK 103 Part A\")\n",
    "    \n",
    "print(\"Data directory is {0}\".format(data_dir))"
   ]
  },
  {
   "cell_type": "code",
   "execution_count": 5,
   "metadata": {
    "collapsed": true
   },
   "outputs": [],
   "source": [
    "def create_reader(path, is_training, input_dim, label_dim):\n",
    "    deserializer = CTFDeserializer(\n",
    "        filename = path,\n",
    "        streams = StreamDefs(\n",
    "            labels_unused = StreamDef(field = 'labels', shape = label_dim, is_sparse = False),\n",
    "            features = StreamDef(field = 'features', shape = input_dim, is_sparse = False\n",
    "            )\n",
    "        )\n",
    "    )\n",
    "    return MinibatchSource(\n",
    "        deserializers = deserializer,\n",
    "        randomize = is_training,\n",
    "        max_sweeps = INFINITELY_REPEAT if is_training else 1\n",
    "    )"
   ]
  },
  {
   "cell_type": "markdown",
   "metadata": {},
   "source": [
    "The random noise we will use to train the GAN is provided by the `noise_sample` function to generate random noise samples from a uniform distribution within the interval [-1, 1]."
   ]
  },
  {
   "cell_type": "code",
   "execution_count": 6,
   "metadata": {
    "collapsed": true
   },
   "outputs": [],
   "source": [
    "np.random.seed(123)\n",
    "def noise_sample(num_samples):\n",
    "    return np.random.uniform(\n",
    "        low = -1.0,\n",
    "        high = 1.0,\n",
    "        size = [num_samples, g_input_dim]\n",
    "    ).astype(np.float32)"
   ]
  },
  {
   "cell_type": "markdown",
   "metadata": {},
   "source": [
    "## Model Creation\n",
    "\n",
    "First we provide a brief recap of the basics of GAN. You may skip this block if you are familiar with CNTK 206A. \n",
    "\n",
    "A GAN network is composed of two sub-networks, one called the Generator ($G$) and the other Discriminator ($D$). \n",
    "- The **Generator** takes random noise vector ($z$) as input and strives to output synthetic (fake) image ($x^*$) that is indistinguishable from the real image ($x$) from the MNIST dataset. \n",
    "- The **Discriminator** strives to differentiate between the real image ($x$) and the fake ($x^*$) image.\n",
    "\n",
    "![GAN-flow](https://www.cntk.ai/jup/GAN_basic_flow.png)\n",
    "\n",
    "In each training iteration, the Generator produces more realistic fake images (in other words *minimizes* the difference between the real and generated counterpart) and the Discriminator *maximizes* the probability of assigning the correct label (real vs. fake) to both real examples (from training set) and the generated fake ones. The two conflicting objectives between the sub-networks ($G$ and $D$) leads to the GAN network (when trained) converge to an equilibrium, where the Generator produces realistic looking fake MNIST images and the Discriminator can at best randomly guess whether images are real or fake. The resulting Generator model once trained produces realistic MNIST image with the input being a random number. "
   ]
  },
  {
   "cell_type": "markdown",
   "metadata": {},
   "source": [
    "### Model config\n",
    "\n",
    "First, we establish some of the architectural and training hyper-parameters for our model.  \n",
    "\n",
    "- The generator network is fractional strided convolutional network.  The input is a 10-dimensional random vector and the output of the generator is a flattened version of a 28 x 28 fake image. The discriminator is strided-convolution network.  It takes as input the 784 dimensional output of the generator or a real MNIST image, reshapes into a 28 x 28 image format and outputs a single scalar - the estimated probability that the input image is a real MNIST image."
   ]
  },
  {
   "cell_type": "markdown",
   "metadata": {},
   "source": [
    "### Model components\n",
    "We build a computational graph for our model, one each for the generator and the discriminator. First, we establish some of the architectural parameters of our model. "
   ]
  },
  {
   "cell_type": "code",
   "execution_count": 7,
   "metadata": {
    "collapsed": true
   },
   "outputs": [],
   "source": [
    "# architectural parameters\n",
    "img_h, img_w = 28, 28\n",
    "kernel_h, kernel_w = 5, 5 \n",
    "stride_h, stride_w = 2, 2\n",
    "\n",
    "# Input / Output parameter of Generator and Discriminator\n",
    "g_input_dim = 100\n",
    "g_output_dim = d_input_dim = img_h * img_w\n",
    "\n",
    "# We expect the kernel shapes to be square in this tutorial and\n",
    "# the strides to be of the same length along each data dimension\n",
    "if kernel_h == kernel_w:\n",
    "    gkernel = dkernel = kernel_h\n",
    "else:\n",
    "    raise ValueError('This tutorial needs square shaped kernel') \n",
    "            \n",
    "if stride_h == stride_w:\n",
    "    gstride = dstride = stride_h\n",
    "else:\n",
    "    raise ValueError('This tutorial needs same stride in all dims')"
   ]
  },
  {
   "cell_type": "code",
   "execution_count": 8,
   "metadata": {
    "collapsed": true
   },
   "outputs": [],
   "source": [
    "# Helper functions\n",
    "def bn_with_relu(x, activation=C.relu):\n",
    "    h = BatchNormalization(map_rank=1)(x)\n",
    "    return C.relu(h)\n",
    "\n",
    "# We use param-relu function to use a leak=0.2 since CNTK implementation \n",
    "# of Leaky ReLU is fixed to 0.01\n",
    "def bn_with_leaky_relu(x, leak=0.2):\n",
    "    h = BatchNormalization(map_rank=1)(x)\n",
    "    r = C.param_relu(C.constant((np.ones(h.shape)*leak).astype(np.float32)), h)\n",
    "    return r"
   ]
  },
  {
   "cell_type": "markdown",
   "metadata": {},
   "source": [
    "**Generator**\n",
    "\n",
    "The generator takes a 100-dimensional random vector (for starters) as input ($z$) and the outputs a 784 dimensional vector, corresponding to a flattened version of a 28 x 28 fake (synthetic) image ($x^*$). In this tutorial, we use fractionally strided convolutions (a.k.a ConvolutionTranspose) with ReLU activations except for the last layer. We use a tanh activation on the last layer to make sure that the output of the generator function is confined to the interval [-1, 1]. The use of ReLU and tanh activation functions are key in addition to using the fractionally strided convolutions."
   ]
  },
  {
   "cell_type": "code",
   "execution_count": 9,
   "metadata": {
    "collapsed": true
   },
   "outputs": [],
   "source": [
    "def convolutional_generator(z):\n",
    "    with default_options(init=C.normal(scale=0.02)):\n",
    "        print('Generator input shape: ', z.shape)\n",
    "\n",
    "        s_h2, s_w2 = img_h//2, img_w//2 #Input shape (14,14)\n",
    "        s_h4, s_w4 = img_h//4, img_w//4 # Input shape (7,7)\n",
    "        gfc_dim = 1024\n",
    "        gf_dim = 64\n",
    "\n",
    "        h0 = Dense(gfc_dim, activation=None)(z)\n",
    "        h0 = bn_with_relu(h0)\n",
    "        print('h0 shape', h0.shape)\n",
    "\n",
    "        h1 = Dense([gf_dim * 2, s_h4,  s_w4], activation=None)(h0)\n",
    "        h1 = bn_with_relu(h1)\n",
    "        print('h1 shape', h1.shape)\n",
    "\n",
    "        h2 = ConvolutionTranspose2D(gkernel,\n",
    "                                  num_filters=gf_dim*2,\n",
    "                                  strides=gstride,\n",
    "                                  pad=True,\n",
    "                                  output_shape=(s_h2, s_w2),\n",
    "                                  activation=None)(h1)\n",
    "        h2 = bn_with_relu(h2)\n",
    "        print('h2 shape', h2.shape)\n",
    "\n",
    "        h3 = ConvolutionTranspose2D(gkernel,\n",
    "                                  num_filters=1,\n",
    "                                  strides=gstride,\n",
    "                                  pad=True,\n",
    "                                  output_shape=(img_h, img_w),\n",
    "                                  activation=C.sigmoid)(h2)\n",
    "        print('h3 shape :', h3.shape)\n",
    "\n",
    "        return C.reshape(h3, img_h * img_w)"
   ]
  },
  {
   "cell_type": "markdown",
   "metadata": {},
   "source": [
    "**Discriminator**\n",
    "\n",
    "The discriminator takes as input ($x^*$) the 784 dimensional output of the generator or a real MNIST image, re-shapes the input to a 28 x 28 image and outputs the estimated probability that the input image is a real MNIST image. The network is modeled using strided convolution with Leaky ReLU activation except for the last layer. We use a sigmoid activation on the last layer to ensure the discriminator output lies in the inteval of [0,1]."
   ]
  },
  {
   "cell_type": "code",
   "execution_count": 10,
   "metadata": {
    "collapsed": true
   },
   "outputs": [],
   "source": [
    "def convolutional_discriminator(x):\n",
    "    with default_options(init=C.normal(scale=0.02)):\n",
    "\n",
    "        dfc_dim = 1024\n",
    "        df_dim = 64\n",
    "\n",
    "        print('Discriminator convolution input shape', x.shape)\n",
    "        x = C.reshape(x, (1, img_h, img_w))\n",
    "\n",
    "        h0 = Convolution2D(dkernel, 1, strides=dstride)(x)\n",
    "        h0 = bn_with_leaky_relu(h0, leak=0.2)\n",
    "        print('h0 shape :', h0.shape)\n",
    "\n",
    "        h1 = Convolution2D(dkernel, df_dim, strides=dstride)(h0)\n",
    "        h1 = bn_with_leaky_relu(h1, leak=0.2)\n",
    "        print('h1 shape :', h1.shape)\n",
    "\n",
    "        h2 = Dense(dfc_dim, activation=None)(h1)\n",
    "        h2 = bn_with_leaky_relu(h2, leak=0.2)\n",
    "        print('h2 shape :', h2.shape)\n",
    "\n",
    "        h3 = Dense(1, activation=C.sigmoid)(h2)\n",
    "        print('h3 shape :', h3.shape)\n",
    "\n",
    "        return h3"
   ]
  },
  {
   "cell_type": "markdown",
   "metadata": {},
   "source": [
    "We use a minibatch size of 128 and a fixed learning rate of 0.0002 for training. In the fast mode (`isFast = True`)  we verify only functional correctness with 5000 iterations. \n",
    "\n",
    "**Note**: In the slow mode, the results look a lot better but it requires in the order of 10 minutes depending on your hardware. In general, the more number of minibatches one trains, the better is the fidelity of the generated images."
   ]
  },
  {
   "cell_type": "code",
   "execution_count": 11,
   "metadata": {
    "collapsed": true
   },
   "outputs": [],
   "source": [
    "# training config\n",
    "minibatch_size = 128\n",
    "num_minibatches = 5000 if isFast else 10000\n",
    "lr = 0.0002\n",
    "momentum = 0.5 #equivalent to beta1"
   ]
  },
  {
   "cell_type": "markdown",
   "metadata": {},
   "source": [
    "### Build the graph\n",
    "\n",
    "The rest of the computational graph is mostly responsible for coordinating the training algorithms and parameter updates, which is particularly tricky with GANs for couple reasons. The GANs are sensitive to the choice of learner and the parameters. Many of the parameters chosen here are based on many hard learnt lessons from the community. You may directly go to the code if you have read the basic GAN tutorial. \n",
    "\n",
    "- First, the discriminator must be used on both the real MNIST images and fake images generated by the generator function.  One way to represent this in the computational graph is to create a clone of the output of the discriminator function, but with substituted inputs.  Setting `method=share` in the `clone` function ensures that  both paths through the discriminator model use the same set of parameters.\n",
    "\n",
    "\n",
    "- Second, we need to update the parameters for the generator and discriminator model separately using the gradients from different loss functions.  We can get the parameters for a `Function` in the graph with the `parameters` attribute.  However, when updating the model parameters, update only the parameters of the respective models while keeping the other parameters unchanged. In other words, when updating the generator we will update only the parameters of the $G$ function while keeping the parameters of the $D$ function fixed and vice versa.\n",
    "\n",
    "### Training the Model\n",
    "The code for training the GAN very closely follows the algorithm as presented in the [original NIPS 2014 paper](https://arxiv.org/pdf/1406.2661v1.pdf). In this implementation, we train $D$ to maximize the probability of assigning the correct label (fake vs. real) to both training examples and the samples from $G$. In other words, $D$ and $G$ play the following two-player minimax game with the value function $V(G,D)$:\n",
    "\n",
    "$$\n",
    "    \\min_G \\max_D V(D,G)= \\mathbb{E}_{x}[ log D(x) ] + \\mathbb{E}_{z}[ log(1 - D(G(z))) ]\n",
    "$$\n",
    "\n",
    "At the optimal point of this game the generator will produce realistic looking data while the discriminator will predict that the generated image is indeed fake with a probability of 0.5. The [algorithm referred below](https://arxiv.org/pdf/1406.2661v1.pdf) is implemented in this tutorial.\n",
    "\n",
    "![NIPS2014](https://www.cntk.ai/jup/GAN_goodfellow_NIPS2014.png)"
   ]
  },
  {
   "cell_type": "code",
   "execution_count": 12,
   "metadata": {
    "collapsed": true
   },
   "outputs": [],
   "source": [
    "def build_graph(noise_shape, image_shape, generator, discriminator):\n",
    "    input_dynamic_axes = [C.Axis.default_batch_axis()]\n",
    "    Z = C.input(noise_shape, dynamic_axes=input_dynamic_axes)\n",
    "    X_real = C.input(image_shape, dynamic_axes=input_dynamic_axes)\n",
    "    X_real_scaled = X_real / 255.0\n",
    "\n",
    "    # Create the model function for the generator and discriminator models\n",
    "    X_fake = generator(Z)\n",
    "    D_real = discriminator(X_real_scaled)\n",
    "    D_fake = D_real.clone(\n",
    "        method = 'share',\n",
    "        substitutions = {X_real_scaled.output: X_fake.output}\n",
    "    )\n",
    "\n",
    "    # Create loss functions and configure optimazation algorithms\n",
    "    G_loss = 1.0 - C.log(D_fake)\n",
    "    D_loss = -(C.log(D_real) + C.log(1.0 - D_fake))\n",
    "\n",
    "    G_learner = adam(\n",
    "        parameters = X_fake.parameters,\n",
    "        lr = learning_rate_schedule(lr, UnitType.sample),\n",
    "        momentum = momentum_schedule(0.5)\n",
    "    )\n",
    "    D_learner = adam(\n",
    "        parameters = D_real.parameters,\n",
    "        lr = learning_rate_schedule(lr, UnitType.sample),\n",
    "        momentum = momentum_schedule(0.5)\n",
    "    )\n",
    "\n",
    "    # Instantiate the trainers\n",
    "    G_trainer = Trainer(\n",
    "        X_fake,\n",
    "        (G_loss, None),\n",
    "        G_learner\n",
    "    )\n",
    "    D_trainer = Trainer(\n",
    "        D_real,\n",
    "        (D_loss, None),\n",
    "        D_learner\n",
    "    )\n",
    "\n",
    "    return X_real, X_fake, Z, G_trainer, D_trainer"
   ]
  },
  {
   "cell_type": "markdown",
   "metadata": {},
   "source": [
    "With the value functions defined we proceed to interatively train the GAN model. The training of the model can take significnantly long depending on the hardware especiallly if `isFast` flag is turned off."
   ]
  },
  {
   "cell_type": "code",
   "execution_count": 13,
   "metadata": {
    "collapsed": true
   },
   "outputs": [],
   "source": [
    "def train(reader_train, generator, discriminator):\n",
    "    X_real, X_fake, Z, G_trainer, D_trainer = \\\n",
    "        build_graph(g_input_dim, d_input_dim, generator, discriminator)\n",
    "\n",
    "    # print out loss for each model for upto 25 times\n",
    "    print_frequency_mbsize = num_minibatches // 25\n",
    "   \n",
    "    print(\"First row is Generator loss, second row is Discriminator loss\")\n",
    "    pp_G = ProgressPrinter(print_frequency_mbsize)\n",
    "    pp_D = ProgressPrinter(print_frequency_mbsize)\n",
    "\n",
    "    k = 2\n",
    "\n",
    "    input_map = {X_real: reader_train.streams.features}\n",
    "    for train_step in range(num_minibatches):\n",
    "\n",
    "        # train the discriminator model for k steps\n",
    "        for gen_train_step in range(k):\n",
    "            Z_data = noise_sample(minibatch_size)\n",
    "            X_data = reader_train.next_minibatch(minibatch_size, input_map)\n",
    "            if X_data[X_real].num_samples == Z_data.shape[0]:\n",
    "                batch_inputs = {X_real: X_data[X_real].data, Z: Z_data}\n",
    "                D_trainer.train_minibatch(batch_inputs)\n",
    "\n",
    "        # train the generator model for a single step\n",
    "        Z_data = noise_sample(minibatch_size)\n",
    "        batch_inputs = {Z: Z_data}\n",
    "\n",
    "        G_trainer.train_minibatch(batch_inputs)\n",
    "        G_trainer.train_minibatch(batch_inputs)\n",
    "\n",
    "        pp_G.update_with_trainer(G_trainer)\n",
    "        pp_D.update_with_trainer(D_trainer)\n",
    "\n",
    "        G_trainer_loss = G_trainer.previous_minibatch_loss_average\n",
    "\n",
    "    return Z, X_fake, G_trainer_loss"
   ]
  },
  {
   "cell_type": "code",
   "execution_count": 14,
   "metadata": {
    "collapsed": false,
    "scrolled": true
   },
   "outputs": [
    {
     "name": "stdout",
     "output_type": "stream",
     "text": [
      "Generator input shape:  (100,)\n",
      "h0 shape (1024,)\n",
      "h1 shape (128, 7, 7)\n",
      "h2 shape (128, 14, 14)\n",
      "h3 shape : (1, 28, 28)\n",
      "Discriminator convolution input shape (784,)\n",
      "h0 shape : (1, 12, 12)\n",
      "h1 shape : (64, 4, 4)\n",
      "h2 shape : (1024,)\n",
      "h3 shape : (1,)\n",
      "First row is Generator loss, second row is Discriminator loss\n",
      " Minibatch[   1- 200]: loss = 3.050164 * 25600;\n",
      " Minibatch[   1- 200]: loss = 0.525048 * 25600;\n",
      " Minibatch[ 201- 400]: loss = 2.899138 * 25600;\n",
      " Minibatch[ 201- 400]: loss = 0.609578 * 25600;\n",
      " Minibatch[ 401- 600]: loss = 2.678210 * 25600;\n",
      " Minibatch[ 401- 600]: loss = 0.672549 * 25600;\n",
      " Minibatch[ 601- 800]: loss = 2.667173 * 25600;\n",
      " Minibatch[ 601- 800]: loss = 0.675693 * 25600;\n",
      " Minibatch[ 801-1000]: loss = 2.404314 * 25600;\n",
      " Minibatch[ 801-1000]: loss = 0.755401 * 25600;\n",
      " Minibatch[1001-1200]: loss = 2.488675 * 25600;\n",
      " Minibatch[1001-1200]: loss = 0.710983 * 25600;\n",
      " Minibatch[1201-1400]: loss = 2.589091 * 25600;\n",
      " Minibatch[1201-1400]: loss = 0.639560 * 25600;\n",
      " Minibatch[1401-1600]: loss = 2.739423 * 25600;\n",
      " Minibatch[1401-1600]: loss = 0.553792 * 25600;\n",
      " Minibatch[1601-1800]: loss = 2.680154 * 25600;\n",
      " Minibatch[1601-1800]: loss = 0.589212 * 25600;\n",
      " Minibatch[1801-2000]: loss = 2.309461 * 25600;\n",
      " Minibatch[1801-2000]: loss = 0.787214 * 25600;\n",
      " Minibatch[2001-2200]: loss = 2.136931 * 25600;\n",
      " Minibatch[2001-2200]: loss = 0.876680 * 25600;\n",
      " Minibatch[2201-2400]: loss = 2.039111 * 25600;\n",
      " Minibatch[2201-2400]: loss = 0.908249 * 25600;\n",
      " Minibatch[2401-2600]: loss = 2.520810 * 25600;\n",
      " Minibatch[2401-2600]: loss = 0.626974 * 25600;\n",
      " Minibatch[2601-2800]: loss = 2.433432 * 25600;\n",
      " Minibatch[2601-2800]: loss = 0.718261 * 25600;\n",
      " Minibatch[2801-3000]: loss = 2.357280 * 25600;\n",
      " Minibatch[2801-3000]: loss = 0.814349 * 25600;\n",
      " Minibatch[3001-3200]: loss = 2.071557 * 25600;\n",
      " Minibatch[3001-3200]: loss = 0.935025 * 25600;\n",
      " Minibatch[3201-3400]: loss = 2.025360 * 25600;\n",
      " Minibatch[3201-3400]: loss = 0.993196 * 25600;\n",
      " Minibatch[3401-3600]: loss = 1.961108 * 25600;\n",
      " Minibatch[3401-3600]: loss = 1.055754 * 25600;\n",
      " Minibatch[3601-3800]: loss = 1.897468 * 25600;\n",
      " Minibatch[3601-3800]: loss = 1.091076 * 25600;\n",
      " Minibatch[3801-4000]: loss = 1.856510 * 25600;\n",
      " Minibatch[3801-4000]: loss = 1.136120 * 25600;\n",
      " Minibatch[4001-4200]: loss = 1.827980 * 25600;\n",
      " Minibatch[4001-4200]: loss = 1.154464 * 25600;\n",
      " Minibatch[4201-4400]: loss = 1.823878 * 25600;\n",
      " Minibatch[4201-4400]: loss = 1.163993 * 25600;\n",
      " Minibatch[4401-4600]: loss = 1.806744 * 25600;\n",
      " Minibatch[4401-4600]: loss = 1.181003 * 25600;\n",
      " Minibatch[4601-4800]: loss = 1.797726 * 25600;\n",
      " Minibatch[4601-4800]: loss = 1.194225 * 25600;\n",
      " Minibatch[4801-5000]: loss = 1.793370 * 25600;\n",
      " Minibatch[4801-5000]: loss = 1.200000 * 25600;\n"
     ]
    }
   ],
   "source": [
    "reader_train = create_reader(train_file, True, d_input_dim, label_dim=10)\n",
    "\n",
    "# G_input, G_output, G_trainer_loss = train(reader_train, dense_generator, dense_discriminator)\n",
    "G_input, G_output, G_trainer_loss = train(reader_train,\n",
    "                                          convolutional_generator,\n",
    "                                          convolutional_discriminator)"
   ]
  },
  {
   "cell_type": "code",
   "execution_count": 15,
   "metadata": {
    "collapsed": false
   },
   "outputs": [
    {
     "name": "stdout",
     "output_type": "stream",
     "text": [
      "Training loss of the generator is: 1.67\n"
     ]
    }
   ],
   "source": [
    "# Print the generator loss \n",
    "print(\"Training loss of the generator is: {0:.2f}\".format(G_trainer_loss))"
   ]
  },
  {
   "cell_type": "markdown",
   "metadata": {},
   "source": [
    "## Generating Fake (Synthetic) Images\n",
    "\n",
    "Now that we have trained the model, we can create fake images simply by feeding random noise into the generator and displaying the outputs.  Below are a few images generated from random samples.  To get a new set of samples, you can re-run the last cell."
   ]
  },
  {
   "cell_type": "code",
   "execution_count": 16,
   "metadata": {
    "collapsed": false,
    "scrolled": true
   },
   "outputs": [
    {
     "data": {
      "image/png": "[encoded data removed]",
      "text/plain": [
       "<matplotlib.figure.Figure at 0x73ab518>"
      ]
     },
     "metadata": {},
     "output_type": "display_data"
    }
   ],
   "source": [
    "def plot_images(images, subplot_shape):\n",
    "    plt.style.use('ggplot')\n",
    "    fig, axes = plt.subplots(*subplot_shape)\n",
    "    for image, ax in zip(images, axes.flatten()):\n",
    "        ax.imshow(image.reshape(28, 28), vmin=0, vmax=1.0, cmap='gray')\n",
    "        ax.axis('off')\n",
    "    plt.show()\n",
    "\n",
    "\n",
    "noise = noise_sample(36)\n",
    "images = G_output.eval({G_input: noise})\n",
    "plot_images(images, subplot_shape=[6, 6])"
   ]
  },
  {
   "cell_type": "markdown",
   "metadata": {},
   "source": [
    "Larger number of iterations should generate more realistic looking MNIST images. A sampling of such generated images are shown below.\n",
    "\n",
    "![DCGAN-results](http://www.cntk.ai/jup/cntk206B_dcgan_result.jpg)\n",
    "\n",
    "**Note**: It takes a large number of iterations to capture a representation of the real world signal. Even simple dense networks can be quite effective in modelling data albeit MNIST is a relatively simple dataset as well."
   ]
  },
  {
   "cell_type": "markdown",
   "metadata": {
    "collapsed": true
   },
   "source": [
    "**Suggested Task**\n",
    "\n",
    "- Please refer to several hacks presented in this [article](https://github.com/soumith/ganhacks) by Soumith Chintala, Facebook Research. While some of the hacks have been incorporated in this notebook, there are several others I would suggest that you try out.\n",
    "\n",
    "- Performance is a key aspect to deep neural networks training. Study how the changing the minibatch sizes impact the performance both with regards to quality of the generated images and the time it takes to train a model.\n",
    "\n",
    "- Try generating fake images using the CIFAR-10 data set as the training data. How does the network above performs? There are other variation in GAN, such as [conditional GAN](https://arxiv.org/pdf/1411.1784.pdf) where the network is additionally conditioned on the input label. Try implementing the labels.\n"
   ]
  }
 ],
 "metadata": {
  "anaconda-cloud": {},
  "kernelspec": {
   "display_name": "Python 3",
   "language": "python",
   "name": "python3"
  },
  "language_info": {
   "codemirror_mode": {
    "name": "ipython",
    "version": 3
   },
   "file_extension": ".py",
   "mimetype": "text/x-python",
   "name": "python",
   "nbconvert_exporter": "python",
   "pygments_lexer": "ipython3",
   "version": "3.4.4"
  }
 },
 "nbformat": 4,
 "nbformat_minor": 0
}
